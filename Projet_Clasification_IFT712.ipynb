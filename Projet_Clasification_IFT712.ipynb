{
 "cells": [
  {
   "cell_type": "markdown",
   "metadata": {},
   "source": [
    "# Projet de session : Classification de feuilles\n",
    "\n",
    "## IFT712 - Université de Sherbrooke\n",
    "\n",
    "# Objectif :\n",
    "\n",
    "Tester des méthodes de classification sur une base de données Kaggle, tout en respectant l’utilisation de validation croisée, et de recherche d’hyperparamètres afin d’identifier la meilleure solution.\n",
    "\n",
    "Base de données : https://www.kaggle.com/c/leaf-classification/\n",
    "\n",
    "Méthodes à tester : machines à vecteurs de support (SVM), k-plus proches voisins, Naïve Bayésienne, Arbre de décisions, Forêt Aléatoire, et Réseau de Neurones avec Perceptron. "
   ]
  },
  {
   "cell_type": "markdown",
   "metadata": {},
   "source": [
    "# Initialisation"
   ]
  },
  {
   "cell_type": "code",
   "execution_count": 2,
   "metadata": {},
   "outputs": [],
   "source": [
    "# Importer outils générales\n",
    "import numpy as np\n",
    "import pandas as pd\n",
    "import os\n",
    "import time\n",
    "from sklearn.metrics import precision_recall_fscore_support as metriques\n",
    "from sklearn.metrics import accuracy_score as accu\n",
    "from sklearn.metrics import plot_roc_curve\n",
    "from tabulate import tabulate\n",
    "import ipywidgets as widgets\n",
    "\n",
    "\n",
    "# Importer codes spécifiques\n",
    "import gestion_donnees as gd\n",
    "import SVM\n",
    "import k_proches_voisins\n",
    "import gaussian_bayesienne\n",
    "import arbre_decision\n",
    "import regression_logistique\n",
    "import analyse_discriminant_lineaire\n",
    "\n",
    "\n",
    "# Ignorer les warnings\n",
    "from warnings import simplefilter\n",
    "simplefilter(action='ignore')\n",
    "\n",
    "\n",
    "# Lire la base de données\n",
    "d_base = pd.read_csv(os.getcwd() + '/train.csv')"
   ]
  },
  {
   "cell_type": "markdown",
   "metadata": {},
   "source": [
    "# Choix du modèle d'apprentissage\n",
    "\n",
    "Choisir entre les options suivantes quel algorithme d'apprentissage utiliser.\n",
    "Il ne faut pas exécuter la cellule suivante, afin que la valeur de l'algorithme choisi ne soit pas réinitialisé."
   ]
  },
  {
   "cell_type": "code",
   "execution_count": 3,
   "metadata": {},
   "outputs": [
    {
     "data": {
      "application/vnd.jupyter.widget-view+json": {
       "model_id": "c567ea1062294ad3951afb868690602b",
       "version_major": 2,
       "version_minor": 0
      },
      "text/plain": [
       "Dropdown(description='Algorithme :', options=('SVM', 'K-proches_voisins', 'Gaussian_Bayesienne', 'Arbre_de_dec…"
      ]
     },
     "metadata": {},
     "output_type": "display_data"
    },
    {
     "data": {
      "application/vnd.jupyter.widget-view+json": {
       "model_id": "2b760b912547421c8c20e4ae7082df23",
       "version_major": 2,
       "version_minor": 0
      },
      "text/plain": [
       "Checkbox(value=False, description='Rechercher hyperparamètres', indent=False)"
      ]
     },
     "metadata": {},
     "output_type": "display_data"
    }
   ],
   "source": [
    "algorithme = widgets.Dropdown(options=['SVM', 'K-proches_voisins', \\\n",
    "                                       'Gaussian_Bayesienne','Arbre_de_decisions',\\\n",
    "                                       'Regression_logistique','analyse_discriminant_lineaire'],\n",
    "    value='SVM',description='Algorithme :', disabled=False,)\n",
    "rh = widgets.Checkbox(value=False, description='Rechercher hyperparamètres',\n",
    "    disabled=False,indent=False)\n",
    "display(algorithme)\n",
    "display(rh)"
   ]
  },
  {
   "cell_type": "markdown",
   "metadata": {},
   "source": [
    "## Importer l'algorithme choisi"
   ]
  },
  {
   "cell_type": "code",
   "execution_count": 4,
   "metadata": {},
   "outputs": [],
   "source": [
    "if algorithme.value == 'Regression_logistique':\n",
    "    classif = regression_logistique.Regression_logistique()\n",
    "    \n",
    "elif algorithme.value == 'SVM':\n",
    "    classif = SVM.SupportVectorMachine()\n",
    "    \n",
    "elif algorithme.value == 'K-proches_voisins': \n",
    "    classif = k_proches_voisins.KProchesVoisins()\n",
    "    \n",
    "elif algorithme.value == 'Gaussian_Bayesienne': \n",
    "    classif = gaussian_bayesienne.GaussianBayes()\n",
    "    \n",
    "elif algorithme.value == 'Arbre_de_decisions': \n",
    "    classif = arbre_decision.ArbreDecision()\n",
    "    \n",
    "elif algorithme.value == 'analyse_discriminant_lineaire': \n",
    "    classif = analyse_discriminant_lineaire.Analyse_Discriminant_lineaire()"
   ]
  },
  {
   "cell_type": "markdown",
   "metadata": {},
   "source": [
    "## Traîtement de la base de données"
   ]
  },
  {
   "cell_type": "code",
   "execution_count": 5,
   "metadata": {},
   "outputs": [],
   "source": [
    "# Séparer les données et leur cibles\n",
    "g_donnees = gd.GestionDonnees(d_base)\n",
    "[types, X, t] = g_donnees.lecture_donnees(d_base)\n",
    "    \n",
    "# Séparer les données pour test et train\n",
    "x_tr, x_ts, t_tr, t_ts = g_donnees.sep_donnees(X, t)"
   ]
  },
  {
   "cell_type": "markdown",
   "metadata": {},
   "source": [
    "## Entraînement\n",
    "\n",
    "On fait l'entraînement de l'algorithme choisi. Cet entrainement dépend du choix fait pour la recherche d'hyperparamètres et du type d'algorithme, ça sera fait avec les libraries de RandomizedSearchCV ou GridSearchCV. Les valeurs d'hyperparamètres à tester sont prédefinis de manière interne."
   ]
  },
  {
   "cell_type": "code",
   "execution_count": 6,
   "metadata": {},
   "outputs": [
    {
     "name": "stdout",
     "output_type": "stream",
     "text": [
      "Debut de l'entrainement GaussNB avec recherche d'hyperparamètres \n",
      "\n",
      "Paramètres utilisés pour l'entraînement GaussNB : {'priors': None, 'var_smoothing': 3e-09} \n",
      "\n",
      "Fin de l'entrainement. Réalisé en 4.52 secondes. \n",
      "\n"
     ]
    }
   ],
   "source": [
    "debut_e = time.time() # Heure de debut pour mesurer le temps d'entraînement\n",
    "classif.entrainement(x_tr, t_tr, rh.value)\n",
    "fin_e = time.time() # Heure de fin pour mesurer le temps d'entraînement\n",
    "print('Fin de l\\'entrainement. Réalisé en %.2f secondes.'% (fin_e - debut_e),'\\n')"
   ]
  },
  {
   "cell_type": "markdown",
   "metadata": {},
   "source": [
    "## Prédictions et métriques de performance\n",
    "\n",
    "On fait les prédictions pour les ensembles d'entraînement complet et de test. Ensuite, on calcule les métriques de performance d'accuracy, précision, rappel et F-score."
   ]
  },
  {
   "cell_type": "code",
   "execution_count": 7,
   "metadata": {},
   "outputs": [
    {
     "name": "stdout",
     "output_type": "stream",
     "text": [
      "Métrique      Train    Test\n",
      "----------  -------  ------\n",
      "Accuracy     0.9987  0.4879\n",
      "Précision    0.9987  0.5220\n",
      "Rappel       0.9990  0.5295\n",
      "F-Beta       0.9988  0.4699\n"
     ]
    }
   ],
   "source": [
    "# Prédictions pour les ensembles d'entraînement et de test\n",
    "predict_tr = classif.prediction(x_tr)\n",
    "predict_ts = classif.prediction(x_ts)\n",
    "\n",
    "# Métriques pour évaluer l'entraînement et test\n",
    "prs_tr, rec_tr, fbeta_tr, _ = metriques(t_tr, predict_tr, average='macro')\n",
    "prs_ts, rec_ts, fbeta_ts, _ = metriques(t_ts, predict_ts, average='macro')\n",
    "acc_tr = accu(t_tr, predict_tr)\n",
    "acc_ts = accu(t_ts, predict_ts)\n",
    "tab_perform = [['Accuracy', acc_tr, acc_ts],['Précision', prs_tr, prs_ts],\\\n",
    "               ['Rappel', rec_tr, rec_ts],['F-Beta', fbeta_tr, fbeta_ts]]\n",
    "print(tabulate(tab_perform, headers=['Métrique', 'Train', 'Test'], \\\n",
    "               floatfmt='.4f'))"
   ]
  },
  {
   "cell_type": "code",
   "execution_count": null,
   "metadata": {},
   "outputs": [],
   "source": []
  }
 ],
 "metadata": {
  "kernelspec": {
   "display_name": "Python 3",
   "language": "python",
   "name": "python3"
  },
  "language_info": {
   "codemirror_mode": {
    "name": "ipython",
    "version": 3
   },
   "file_extension": ".py",
   "mimetype": "text/x-python",
   "name": "python",
   "nbconvert_exporter": "python",
   "pygments_lexer": "ipython3",
   "version": "3.8.5"
  }
 },
 "nbformat": 4,
 "nbformat_minor": 4
}
